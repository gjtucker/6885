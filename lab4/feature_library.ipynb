{
 "metadata": {
  "name": ""
 },
 "nbformat": 3,
 "nbformat_minor": 0,
 "worksheets": [
  {
   "cells": [
    {
     "cell_type": "code",
     "collapsed": false,
     "input": [
      "import numpy"
     ],
     "language": "python",
     "metadata": {},
     "outputs": [],
     "prompt_number": 8
    },
    {
     "cell_type": "code",
     "collapsed": false,
     "input": [
      "def compute_equal_name( locu_record, foursquare_record ):\n",
      "    return compute_equal_field( locu_record, foursquare_record, \"name\" )\n",
      "\n",
      "def compute_equal_website( locu_record, foursquare_record ):\n",
      "    return compute_equal_field( locu_record, foursquare_record, \"website\" )\n",
      "\n",
      "def compute_equal_field( locu_record, foursquare_record, field_name ):\n",
      "    if locu_record[field_name] == foursquare_record[field_name]:\n",
      "        return 1.0\n",
      "    else:\n",
      "        return 0.0\n",
      "    "
     ],
     "language": "python",
     "metadata": {},
     "outputs": [],
     "prompt_number": 6
    },
    {
     "cell_type": "code",
     "collapsed": false,
     "input": [
      "def get_street_without_number( record ):\n",
      "    street_address = record['street_address']\n",
      "    if len( street_address  )== 0:\n",
      "           return street_address\n",
      "    else:\n",
      "        try:\n",
      "            float( street_address.split()[0] )\n",
      "            return \" \".join( street_address.split()[1:] )\n",
      "        except ValueError:\n",
      "            return street_address\n",
      "        \n",
      "    \n",
      "    "
     ],
     "language": "python",
     "metadata": {},
     "outputs": [
      {
       "output_type": "stream",
       "stream": "stdout",
       "text": [
        "\n"
       ]
      }
     ],
     "prompt_number": 31
    },
    {
     "cell_type": "code",
     "collapsed": false,
     "input": [
      "def char_splitter(s, n):\n",
      "    res = set()\n",
      "    if len(s) < n:\n",
      "        res.add(s)\n",
      "        return res\n",
      "\n",
      "    for i in range(len(s) - n + 1):\n",
      "        res.add(s[i:(i+n)])\n",
      "    return res\n",
      "\n",
      "\n",
      "def jaccard_score(p1,p2,fields = [\"name\", \"street_address\" ], n = 4):\n",
      "    name1 = \" \".join([p1[x] for x in fields])\n",
      "    name2 = \" \".join([p2[x] for x in fields])\n",
      "    set1 = set.union(*[char_splitter(x, n) for x in name1.lower().split()])\n",
      "    set2 = set.union(*[char_splitter(x, n) for x in name2.lower().split()])\n",
      "    c = set1.intersection(set2)\n",
      "    return float(len(c)) / (len(set1) + len(set2) - len(c))\n"
     ],
     "language": "python",
     "metadata": {},
     "outputs": [],
     "prompt_number": 4
    },
    {
     "cell_type": "code",
     "collapsed": false,
     "input": [
      "def get_feature_vector( record1, record2 ):\n",
      "    # return a numpy vector of floats\n",
      "    feature_vector = []\n",
      "    for fn in [ compute_equal_name, compute_equal_website, jaccard_score ]:\n",
      "        x = fn( record1, record2 )\n",
      "    \n",
      "        feature_vector.append( numpy.float( x ) )\n",
      "    \n",
      "    return numpy.array( feature_vector )\n",
      "    \n",
      "    \n",
      "\n",
      "    \n",
      "    \n",
      "\n",
      "    "
     ],
     "language": "python",
     "metadata": {},
     "outputs": [],
     "prompt_number": 3
    },
    {
     "cell_type": "code",
     "collapsed": false,
     "input": [
      "if __name__ == '__main__':\n",
      "    data_path = './'\n",
      "    import os, json\n",
      "    \n",
      "    with open( os.path.join( data_path, 'foursquare_train_hard.json' ) ) as f:\n",
      "        foursquare_records_train = json.load( f )\n",
      "        \n",
      "    with open( os.path.join( data_path, 'locu_train_hard.json' ) ) as f:\n",
      "        locu_records_train = json.load( f )\n",
      "    \n",
      "    \n",
      "    r1 = foursquare_records_train[0]\n",
      "    r2 = locu_records_train[0]\n",
      "    \n",
      "    #print compute_equal_name( r1, r2 )\n",
      "    \n",
      "    features = get_feature_vector( r1, r2 )\n",
      "    \n",
      "    for fr in foursquare_records_train[:5]:\n",
      "        for lr in locu_records_train[:5]:\n",
      "            print get_feature_vector( fr, lr )\n",
      "            \n",
      "            #if numpy.sum( get_feature_vector( fr, lr ) ) == 2:\n",
      "            #    print fr, lr\n",
      "            \n",
      "    \n",
      "        "
     ],
     "language": "python",
     "metadata": {},
     "outputs": [
      {
       "output_type": "stream",
       "stream": "stdout",
       "text": [
        "[ 0.  0.  0.]\n",
        "[ 0.          1.          0.03333333]\n",
        "[ 0.          0.          0.03846154]\n",
        "[ 0.          1.          0.26923077]\n",
        "[ 0.  0.  0.]\n",
        "[ 0.  0.  0.]\n",
        "[ 0.    1.    0.04]\n",
        "[ 0.          0.          0.04761905]\n",
        "[ 0.  1.  0.]\n",
        "[ 0.  0.  0.]\n",
        "[ 0.  0.  0.]\n",
        "[ 0.          1.          0.02941176]\n",
        "[ 0.          0.          0.03333333]\n",
        "[ 0.  1.  0.]\n",
        "[ 0.  0.  0.]\n",
        "[ 0.  0.  0.]\n",
        "[ 0.  0.  0.]\n",
        "[ 0.  0.  0.]\n",
        "[ 0.          0.          0.20833333]\n",
        "[ 0.  0.  0.]\n",
        "[ 0.  0.  0.]\n",
        "[ 0.  1.  0.]\n",
        "[ 0.  0.  0.]\n",
        "[ 0.  1.  0.]\n",
        "[ 0.  0.  0.]\n"
       ]
      }
     ],
     "prompt_number": 9
    },
    {
     "cell_type": "code",
     "collapsed": false,
     "input": [],
     "language": "python",
     "metadata": {},
     "outputs": []
    }
   ],
   "metadata": {}
  }
 ]
}