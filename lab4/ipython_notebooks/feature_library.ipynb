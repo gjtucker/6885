{
 "metadata": {
  "name": ""
 },
 "nbformat": 3,
 "nbformat_minor": 0,
 "worksheets": [
  {
   "cells": [
    {
     "cell_type": "code",
     "collapsed": false,
     "input": [
      "import numpy"
     ],
     "language": "python",
     "metadata": {},
     "outputs": [],
     "prompt_number": 3
    },
    {
     "cell_type": "code",
     "collapsed": false,
     "input": [
      "def compute_equal_name( locu_record, foursquare_record ):\n",
      "    if locu_record['name'] == foursquare_record['name']:\n",
      "        return 1.0\n",
      "    else:\n",
      "        return 0.0"
     ],
     "language": "python",
     "metadata": {},
     "outputs": [],
     "prompt_number": 1
    },
    {
     "cell_type": "code",
     "collapsed": false,
     "input": [
      "def get_feature_vector( record1, record2 ):\n",
      "    # return a numpy vector of floats\n",
      "    feature_vector = []\n",
      "    for fn in [ compute_equal_name ]:\n",
      "        x = fn( record1, record2 )\n",
      "    \n",
      "        feature_vector.append( numpy.float( x ) )\n",
      "    \n",
      "    return numpy.array( feature_vector )\n",
      "    \n",
      "    \n",
      "    "
     ],
     "language": "python",
     "metadata": {},
     "outputs": [],
     "prompt_number": 14
    },
    {
     "cell_type": "code",
     "collapsed": false,
     "input": [
      "if __name__ == '__main__':\n",
      "    data_path = '../'\n",
      "    import os, json\n",
      "    \n",
      "    with open( os.path.join( data_path, 'foursquare_train_hard.json' ) ) as f:\n",
      "        foursquare_records_train = json.load( f )\n",
      "        \n",
      "    with open( os.path.join( data_path, 'locu_train_hard.json' ) ) as f:\n",
      "        locu_records_train = json.load( f )\n",
      "    \n",
      "    \n",
      "    r1 = foursquare_records_train[0]\n",
      "    r2 = locu_records_train[0]\n",
      "    \n",
      "    #print compute_equal_name( r1, r2 )\n",
      "    \n",
      "    features = get_feature_vector( r1, r2 )\n",
      "    \n",
      "    for fr in foursquare_records_train[:10]:\n",
      "        for lr in locu_records_train[:10]:\n",
      "            \n",
      "        \n",
      "    \n",
      "        "
     ],
     "language": "python",
     "metadata": {},
     "outputs": [
      {
       "output_type": "stream",
       "stream": "stdout",
       "text": [
        "{u'website': u'http://cafegustonyc.com', u'name': u'Cafe Gusto', u'locality': u'New York', u'country': u'United States', u'region': u'NY', u'longitude': -74.0059036295925, u'phone': u'(212) 791-2700', u'postal_code': u'10038', u'latitude': 40.7077707419455, u'id': u'4b2137b7f964a5206e3824e3', u'street_address': u'111 John St.'} {u'website': u'http://www.cafegustotogo.com/', u'name': u'Cafe Gusto', u'locality': u'New York', u'country': u'United States', u'region': u'NY', u'longitude': -74.005615, u'phone': u'2127912700', u'postal_code': u'10038', u'latitude': 40.707742, u'id': u'a7e281eb14e6bee3b9c3', u'street_address': u'111 John St.'}\n",
        "{u'website': u'', u'name': u'Broadway Restaurant', u'locality': u'New York', u'country': u'United States', u'region': u'NY', u'longitude': -73.9693518913068, u'phone': u'(212) 865-7074', u'postal_code': u'10025', u'latitude': 40.7981367589715, u'id': u'4ada0a62f964a520a91d21e3', u'street_address': u'2664 Broadway'} {u'website': u'', u'name': u'Broadway Restaurant', u'locality': u'New York', u'country': u'United States', u'region': u'NY', u'longitude': -73.969037, u'phone': u'2128657074', u'postal_code': u'10025', u'latitude': 40.79801, u'id': u'1f11c3331ceb799b16ef', u'street_address': u'2664 Broadway'}\n",
        "{u'website': u'', u'name': u'The Plank', u'locality': u'New York', u'country': u'United States', u'region': u'NY', u'longitude': -73.960793, u'phone': None, u'postal_code': u'', u'latitude': 40.718578, u'id': u'51d4fdea498eef3555473a4d', u'street_address': u'216 Bedford Ave.'}"
       ]
      },
      {
       "output_type": "stream",
       "stream": "stdout",
       "text": [
        " {u'website': u'', u'name': u'The Plank', u'locality': u'New York', u'country': u'United States', u'region': u'NY', u'longitude': -73.960793, u'phone': u'', u'postal_code': u'11211', u'latitude': 40.718578, u'id': u'501e881785633247e7e3', u'street_address': u'216 Bedford Ave.'}\n",
        "{u'website': u'http://thinkcoffeenyc.com', u'name': u'Think Coffee', u'locality': u'New York', u'country': u'United States', u'region': u'NY', u'longitude': -73.9955914020538, u'phone': u'(212) 228-6226', u'postal_code': u'10012', u'latitude': 40.7282832113206, u'id': u'44dc96e4f964a520b0361fe3', u'street_address': u'248 Mercer St.'} {u'website': u'http://thinkcoffeenyc.com', u'name': u'Think Coffee', u'locality': u'New York', u'country': u'United States', u'region': u'NY', u'longitude': -73.9955914020538, u'phone': u'2122286226', u'postal_code': u'10012', u'latitude': 40.7282832113206, u'id': u'8e28b33e41086982d658', u'street_address': u'248 Mercer St.'}\n",
        "{u'website': u'', u'name': u'Le Poisson Rouge', u'locality': u'New York', u'country': u'United States', u'region': u'NY', u'longitude': -74.0053355211635, u'phone': None, u'postal_code': u'10014', u'latitude': 40.7277899793792, u'id': u'506fc5f6e4b0184b5ae01a83', u'street_address': u''}"
       ]
      },
      {
       "output_type": "stream",
       "stream": "stdout",
       "text": [
        " {u'website': u'http://lepoissonrouge.com/', u'name': u'Le Poisson Rouge', u'locality': u'New York', u'country': u'United States', u'region': u'NY', u'longitude': -74.000078, u'phone': u'2125053474', u'postal_code': u'10012', u'latitude': 40.72849, u'id': u'80afa95c01dae3ba5434', u'street_address': u'158 Bleecker St.'}\n",
        "{u'website': u'', u'name': u'Two Swords Tavern', u'locality': u'New York', u'country': u'United States', u'region': u'NY', u'longitude': -73.987169, u'phone': None, u'postal_code': u'10003', u'latitude': 40.726755, u'id': u'4ff503ece4b054fba983af0e', u'street_address': u'330 E. 6th St.'} {u'website': u'', u'name': u'Two Swords Tavern', u'locality': u'New York', u'country': u'United States', u'region': u'NY', u'longitude': -73.987169, u'phone': u'', u'postal_code': u'10003', u'latitude': 40.726755, u'id': u'a1b151935bf166cd41ae', u'street_address': u'330 E. 6th St.'}\n",
        "{u'website': u'http://www.potbelly.com', u'name': u'Potbelly Sandwich Shop', u'locality': u'New York', u'country': u'United States', u'region': u'NY', u'longitude': -74.005915106513, u'phone': u'(646) 289-4206', u'postal_code': u'10007', u'latitude': 40.714587524885, u'id': u'4f4d2593e4b00b42c3f1060f', u'street_address': u'280 Broadway'}"
       ]
      },
      {
       "output_type": "stream",
       "stream": "stdout",
       "text": [
        " {u'website': u'http://www.potbelly.com/Shops/ShopLocator.aspx?PotbellyShopId=264', u'name': u'Potbelly Sandwich Shop', u'locality': u'New York', u'country': u'United States', u'region': u'NY', u'longitude': -74.005953, u'phone': u'6462894206', u'postal_code': u'10007', u'latitude': 40.714398, u'id': u'2eae0e6db285b9ec19ff', u'street_address': u'280 Broadway'}\n",
        "{u'website': u'', u'name': u'Deliteria Deli', u'locality': u'New York', u'country': u'United States', u'region': u'NY', u'longitude': -73.9678251641009, u'phone': u'', u'postal_code': u'', u'latitude': 40.7593029334859, u'id': u'4a91cdccf964a520e01b20e3', u'street_address': u'1061 2nd Ave.'} {u'website': u'', u'name': u'Deliteria Deli', u'locality': u'New York', u'country': u'United States', u'region': u'NY', u'longitude': -73.9678251641009, u'phone': u'2127554520', u'postal_code': u'10022', u'latitude': 40.7593029334859, u'id': u'5e052fa25f71dc1927b0', u'street_address': u'1061 2nd Ave.'}\n",
        "{u'website': u'', u'name': u\"Mike's Pizzeria & Cafe\", u'locality': u'New York', u'country': u'United States', u'region': u'NY', u'longitude': -73.986006, u'phone': u'(646) 998-7573', u'postal_code': u'', u'latitude': 40.750573, u'id': u'4d39d3a4039eb60c288fe59c', u'street_address': u'35 W. 36th St.'} {u'website': u'', u'name': u\"Mike's Pizzeria & Cafe\", u'locality': u'New York', u'country': u'United States', u'region': u'NY', u'longitude': -73.986006, u'phone': u'6469987573', u'postal_code': u'', u'latitude': 40.750573, u'id': u'5be7ca603ffa653eea64', u'street_address': u'35 W. 36th St.'}\n",
        "{u'website': u'', u'name': u'Italian Village Pizzeria', u'locality': u'New York', u'country': u'United States', u'region': u'NY', u'longitude': -73.9524481661749, u'phone': u'(212) 535-5950', u'postal_code': u'10075', u'latitude': 40.7727661667397, u'id': u'4a90dbbef964a520a11920e3', u'street_address': u'1526 1st Ave.'} {u'website': u'', u'name': u'Italian Village Pizzeria', u'locality': u'New York', u'country': u'United States', u'region': u'NY', u'longitude': -73.95213, u'phone': u'2125355950', u'postal_code': u'10075', u'latitude': 40.77284, u'id': u'34fd7260f2db2c20a243', u'street_address': u'1526 1st Ave. # 1'}\n",
        "{u'website': u'', u'name': u'Campbell Caters-Glen Campbell', u'locality': u'New York', u'country': u'United States', u'region': u'NY', u'longitude': -74.00651, u'phone': u'(212) 807-1726', u'postal_code': u'', u'latitude': 40.731382, u'id': u'4f32396219836c91c7c264ff', u'street_address': u'456 Hudson St.'}"
       ]
      },
      {
       "output_type": "stream",
       "stream": "stdout",
       "text": [
        " {u'website': u'', u'name': u'Campbell Caters-Glen Campbell', u'locality': u'New York', u'country': u'United States', u'region': u'NY', u'longitude': -74.00651, u'phone': u'2128071726', u'postal_code': u'', u'latitude': 40.731382, u'id': u'c67dbd7a182091fcf26d', u'street_address': u'456 Hudson St.'}\n",
        "{u'website': u'', u'name': u'The Kitchen At DramaFever', u'locality': u'New York', u'country': u'United States', u'region': u'NY', u'longitude': -73.9858581383772, u'phone': None, u'postal_code': u'10016', u'latitude': 40.7437378620494, u'id': u'50bf71f9e4b03b1879e6f733', u'street_address': u'72 Madison Ave. Floor 12'}"
       ]
      },
      {
       "output_type": "stream",
       "stream": "stdout",
       "text": [
        " {u'website': u'', u'name': u'The Kitchen At DramaFever', u'locality': u'New York', u'country': u'United States', u'region': u'NY', u'longitude': -73.9858581383772, u'phone': u'', u'postal_code': u'10016', u'latitude': 40.7437378620494, u'id': u'dbff155162a04485b8eb', u'street_address': u'72 Madison Ave. Floor 12'}\n",
        "{u'website': u'', u'name': u'Coffee Cart', u'locality': u'New York', u'country': u'United States', u'region': u'NY', u'longitude': -73.956299, u'phone': None, u'postal_code': u'', u'latitude': 40.77815, u'id': u'4dca7fde1f6e28126777d908', u'street_address': u'85th And Lexington'} {u'website': u'', u'name': u'Coffee Cart', u'locality': u'New York', u'country': u'United States', u'region': u'NY', u'longitude': -73.956299, u'phone': u'', u'postal_code': u'10022', u'latitude': 40.77815, u'id': u'37755df0fcdd7de21941', u'street_address': u'85th And Lexington'}\n",
        "{u'website': u'http://www.tgifridays.com', u'name': u\"T.G.I. Friday's\", u'locality': u'New York', u'country': u'United States', u'region': u'NY', u'longitude': -73.9894851904393, u'phone': u'(646) 556-6381', u'postal_code': u'10003', u'latitude': 40.7359605683149, u'id': u'509d636d5d2463e871548042', u'street_address': u'34 Union Sq. E.'} {u'website': u'http://www.tgifridays.com/', u'name': u\"T.G.I. Friday's\", u'locality': u'New York', u'country': u'United States', u'region': u'NY', u'longitude': -73.989382, u'phone': u'6465566381', u'postal_code': u'10003', u'latitude': 40.735754, u'id': u'851e39b9058a0ff8c07c', u'street_address': u'34 Union Square East'}\n",
        "{u'website': u'http://homersworldfamous.com', u'name': u\"Homer's World Famous Malt Shop\", u'locality': u'New York', u'country': u'United States', u'region': u'NY', u'longitude': -73.976285, u'phone': u'(212) 496-0777', u'postal_code': u'10024', u'latitude': 40.785946, u'id': u'4e4c3bc4bd413c4cc667d7c6', u'street_address': u'487 Amsterdam Ave.'}"
       ]
      },
      {
       "output_type": "stream",
       "stream": "stdout",
       "text": [
        " {u'website': u'http://homersworldfamous.com', u'name': u\"Homer's World Famous Malt Shop\", u'locality': u'New York', u'country': u'United States', u'region': u'NY', u'longitude': -73.976285, u'phone': u'2124960777', u'postal_code': u'10024', u'latitude': 40.785946, u'id': u'22019cba8af673fb06bb', u'street_address': u'487 Amsterdam Ave.'}\n",
        "{u'website': u'http://bengalcurrykebabnyc.com', u'name': u'Bengal Curry & Kabab', u'locality': u'New York', u'country': u'United States', u'region': u'NY', u'longitude': -74.010127, u'phone': u'(212) 571-1122', u'postal_code': u'10007', u'latitude': 40.714525, u'id': u'4a7856dcf964a5206ce51fe3', u'street_address': u'65 W. Broadway'} {u'website': u'http://bengalcurrykebabnyc.com', u'name': u'Bengal Curry & Kabab', u'locality': u'New York', u'country': u'United States', u'region': u'NY', u'longitude': -74.010127, u'phone': u'2125711122', u'postal_code': u'10007', u'latitude': 40.714525, u'id': u'3ce5c112b5b9c6130586', u'street_address': u'65 W. Broadway'}\n",
        "{u'website': u'http://www.chipotle.com', u'name': u'Chipotle Mexican Grill', u'locality': u'New York', u'country': u'United States', u'region': u'NY', u'longitude': -73.9809913533017, u'phone': u'(212) 391-2081', u'postal_code': u'10036', u'latitude': 40.756000307994, u'id': u'4a95b175f964a5202a2420e3', u'street_address': u'25 W. 45th St.'} {u'website': u'http://www.chipotle.com/', u'name': u'Chipotle Mexican Grill', u'locality': u'New York', u'country': u'United States', u'region': u'NY', u'longitude': -73.985144, u'phone': u'2126736904', u'postal_code': u'10010', u'latitude': 40.739822, u'id': u'cc9e8f40230c6ead2873', u'street_address': u'125 East 23rd St.'}\n",
        "{u'website': u'http://www.dunkindonuts.com', u'name': u'Dunkin Donuts', u'locality': u'New York', u'country': u'United States', u'region': u'NY', u'longitude': -73.9418077468872, u'phone': u'', u'postal_code': u'10039', u'latitude': 40.822805565001, u'id': u'4bea99606295c9b6fc8e8608', u'street_address': u'2730 Frederick Douglass Blvd.'}"
       ]
      },
      {
       "output_type": "stream",
       "stream": "stdout",
       "text": [
        " {u'website': u'http://www.dunkindonuts.com', u'name': u'Dunkin Donuts', u'locality': u'New York', u'country': u'United States', u'region': u'NY', u'longitude': -73.935448, u'phone': u'', u'postal_code': u'10035', u'latitude': 40.796173, u'id': u'c415077b9c5a519d607f', u'street_address': u'2258 1st Ave., Aka 401-403 East 116th St.'}\n"
       ]
      }
     ],
     "prompt_number": 17
    },
    {
     "cell_type": "code",
     "collapsed": false,
     "input": [],
     "language": "python",
     "metadata": {},
     "outputs": []
    }
   ],
   "metadata": {}
  }
 ]
}